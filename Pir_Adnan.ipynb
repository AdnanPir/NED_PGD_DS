{
 "cells": [
  {
   "cell_type": "markdown",
   "id": "e6f5993e",
   "metadata": {},
   "source": [
    "# Python List Manipulation Assignment\n",
    "Instructions:\n",
    "•\tThis assignment is designed to test your understanding of Python list manipulation, including slicing and indexing.\n",
    "•\tEnsure your code is well-commented and follows best practices.\n",
    "•\tName your file as \"list_assignment.py\".\n",
    "•\tSubmit your completed assignment by the specified deadline.\n"
   ]
  },
  {
   "cell_type": "markdown",
   "id": "7cc59ec4",
   "metadata": {},
   "source": [
    "# Questions:"
   ]
  },
  {
   "cell_type": "markdown",
   "id": "787813bd",
   "metadata": {},
   "source": [
    "# Question 1: Basic List Operations"
   ]
  },
  {
   "cell_type": "markdown",
   "id": "3631d2b5",
   "metadata": {},
   "source": [
    "a) Create a list named `fruits` containing the following items: \"apple\", \"banana\", \"orange\", \"grape\", \"kiwi\"."
   ]
  },
  {
   "cell_type": "markdown",
   "id": "3acab905",
   "metadata": {},
   "source": [
    "b) Add \"pear\" to the end of the list."
   ]
  },
  {
   "cell_type": "markdown",
   "id": "61901bb7",
   "metadata": {},
   "source": [
    "c) Insert \"mango\" at the second position in the list."
   ]
  },
  {
   "cell_type": "markdown",
   "id": "63be199e",
   "metadata": {},
   "source": [
    "d) Remove \"orange\" from the list."
   ]
  },
  {
   "cell_type": "code",
   "execution_count": 16,
   "id": "49b3c2b0",
   "metadata": {},
   "outputs": [
    {
     "name": "stdout",
     "output_type": "stream",
     "text": [
      "['apple', 'banana', 'orange', 'grape', 'kiwi']\n",
      "['apple', 'banana', 'orange', 'grape', 'kiwi', 'pear']\n",
      "['apple', 'mango', 'banana', 'orange', 'grape', 'kiwi', 'pear']\n",
      "['apple', 'mango', 'banana', 'grape', 'kiwi', 'pear']\n"
     ]
    }
   ],
   "source": [
    "fruits = [\"apple\", \"banana\", \"orange\", \"grape\", \"kiwi\"]\n",
    "print(fruits)\n",
    "fruits.append(\"pear\")\n",
    "print(fruits)\n",
    "fruits.insert(1,\"mango\")\n",
    "print(fruits)\n",
    "fruits.remove(\"orange\")\n",
    "print(fruits)"
   ]
  },
  {
   "cell_type": "markdown",
   "id": "b990456b",
   "metadata": {},
   "source": [
    "# Question 2: Slicing and Indexing\n",
    "\n",
    "a) Create a list named `numbers` containing the integers from 0 to 9.\n",
    "\n",
    "b) Print the element at index 3.\n",
    "\n",
    "c) Print a sublist containing the elements from index 2 to 6 (inclusive).\n",
    "\n",
    "d) Print the last three elements using negative indexing.\n"
   ]
  },
  {
   "cell_type": "code",
   "execution_count": 19,
   "id": "73d30ea7",
   "metadata": {},
   "outputs": [
    {
     "name": "stdout",
     "output_type": "stream",
     "text": [
      "[0, 1, 2, 3, 4, 5, 6, 7, 8, 9]\n",
      "3\n",
      "[2, 3, 4, 5, 6]\n",
      "[7, 8, 9]\n"
     ]
    }
   ],
   "source": [
    "numbers = [0, 1, 2, 3, 4, 5, 6, 7, 8, 9]\n",
    "print(numbers)\n",
    "print(numbers[3])\n",
    "print(numbers[2:7])\n",
    "print(numbers[-3:])"
   ]
  },
  {
   "cell_type": "markdown",
   "id": "4f540863",
   "metadata": {},
   "source": [
    "# Question 3: List Comprehension\n",
    "\n",
    "a) Create a list named `squares` using a list comprehension that contains the squares of numbers from 1 to 10.\n",
    "\n",
    "b) Create a new list named `even_squares` using a list comprehension that contains the squares of even numbers from the `squares` list.\n"
   ]
  },
  {
   "cell_type": "code",
   "execution_count": 20,
   "id": "03c08b85",
   "metadata": {},
   "outputs": [
    {
     "name": "stdout",
     "output_type": "stream",
     "text": [
      "[1, 4, 9, 16, 25, 36, 49, 64, 81, 100]\n",
      "[4, 16, 36, 64, 100]\n"
     ]
    }
   ],
   "source": [
    "squares = [(i**2)for i in range(1,11)]\n",
    "print(squares)\n",
    "even_squares = [x for x in squares if x % 2 == 0]\n",
    "print(even_squares)"
   ]
  },
  {
   "cell_type": "markdown",
   "id": "c8faa955",
   "metadata": {},
   "source": [
    "# Question 4: List Manipulation\n",
    "\n",
    "a) Create a list named `colors` containing the following items: \"red\", \"green\", \"blue\", \"yellow\", \"purple\".\n",
    "\n",
    "b) Swap the first and last elements of the list.\n",
    "\n",
    "c) Reverse the order of the list.\n",
    "\n",
    "d) Remove the second and third elements from the list.\n"
   ]
  },
  {
   "cell_type": "code",
   "execution_count": 21,
   "id": "be66666d",
   "metadata": {},
   "outputs": [
    {
     "name": "stdout",
     "output_type": "stream",
     "text": [
      "['red', 'green', 'blue', 'yellow', 'purple']\n",
      "['purple', 'green', 'blue', 'yellow', 'red']\n",
      "['red', 'yellow', 'blue', 'green', 'purple']\n",
      "['red', 'green', 'purple']\n"
     ]
    }
   ],
   "source": [
    "colors = [\"red\", \"green\", \"blue\", \"yellow\", \"purple\"]\n",
    "print(colors)\n",
    "swap = colors[0]\n",
    "colors[0] = colors[4]\n",
    "colors[4] = swap\n",
    "print(colors)\n",
    "colors.reverse()\n",
    "print(colors)\n",
    "colors.remove(colors[1])\n",
    "colors.remove(colors[1])\n",
    "print(colors)"
   ]
  },
  {
   "cell_type": "markdown",
   "id": "56caad43",
   "metadata": {},
   "source": [
    "AND"
   ]
  },
  {
   "cell_type": "code",
   "execution_count": 22,
   "id": "84bb8575",
   "metadata": {},
   "outputs": [
    {
     "name": "stdout",
     "output_type": "stream",
     "text": [
      "['red', 'green', 'blue', 'yellow', 'purple']\n",
      "['purple', 'green', 'blue', 'yellow', 'red']\n",
      "['red', 'yellow', 'blue', 'green', 'purple']\n",
      "['red', 'green', 'purple']\n"
     ]
    }
   ],
   "source": [
    "colors = [\"red\", \"green\", \"blue\", \"yellow\", \"purple\"]\n",
    "print(colors)\n",
    "colors.insert(0, \"purple\")\n",
    "colors.remove(\"red\")\n",
    "colors.insert(4, \"red\")\n",
    "colors.reverse()\n",
    "colors.remove(\"purple\")\n",
    "colors.reverse()\n",
    "print(colors)\n",
    "colors.reverse()\n",
    "print(colors)\n",
    "colors.remove(\"yellow\")\n",
    "colors.remove(\"blue\")\n",
    "print(colors)"
   ]
  },
  {
   "cell_type": "markdown",
   "id": "eafc6679",
   "metadata": {},
   "source": [
    "# Question 5: Advanced Slicing\n",
    "\n",
    "a) Create a list named `letters` containing the letters from 'a' to 'j'.\n",
    "\n",
    "b) Using slicing, create a new list `first_half` containing the first half of the `letters` list.\n",
    "\n",
    "c) Using slicing, create a new list `last_three` containing the last three elements of the `letters` list.\n"
   ]
  },
  {
   "cell_type": "code",
   "execution_count": 23,
   "id": "b50a4fa2",
   "metadata": {},
   "outputs": [
    {
     "name": "stdout",
     "output_type": "stream",
     "text": [
      "['a', 'b', 'c', 'd', 'e', 'f', 'g', 'h', 'i', 'j']\n",
      "['a', 'b', 'c', 'd', 'e']\n",
      "['h', 'i', 'j']\n"
     ]
    }
   ],
   "source": [
    "letters = []\n",
    "start = ord(\"a\")\n",
    "for i in range(10):\n",
    "    letters.append(chr(start + i))\n",
    "print(letters)\n",
    "first_half = letters[0:5]\n",
    "print(first_half)\n",
    "last_three = letters[7:11]\n",
    "print(last_three)"
   ]
  },
  {
   "cell_type": "markdown",
   "id": "38baeb2f",
   "metadata": {},
   "source": [
    "# Question 6: Nested Lists\n",
    "\n",
    "a) Create a nested list named `matrix` with the following rows:\n",
    "   - [1, 2, 3]\n",
    "   - [4, 5, 6]\n",
    "   - [7, 8, 9]\n",
    "\n",
    "b) Print the element in the second row and third column.\n",
    "\n",
    "c) Use nested indexing to change the value at the second row and first column to 0.\n"
   ]
  },
  {
   "cell_type": "code",
   "execution_count": 24,
   "id": "319a1c0d",
   "metadata": {},
   "outputs": [
    {
     "name": "stdout",
     "output_type": "stream",
     "text": [
      "[[1, 2, 3], [4, 5, 6], [7, 8, 9]]\n",
      "6\n",
      "[[1, 2, 3], [0, 5, 6], [7, 8, 9]]\n"
     ]
    }
   ],
   "source": [
    "matrix = [\n",
    "    [1,2,3],\n",
    "    [4,5,6],\n",
    "    [7,8,9]\n",
    "]\n",
    "print(matrix)\n",
    "print(matrix[1][2])\n",
    "matrix[1][0] = 0\n",
    "print(matrix)"
   ]
  },
  {
   "cell_type": "code",
   "execution_count": null,
   "id": "f3133265",
   "metadata": {},
   "outputs": [],
   "source": []
  }
 ],
 "metadata": {
  "kernelspec": {
   "display_name": "Python 3 (ipykernel)",
   "language": "python",
   "name": "python3"
  },
  "language_info": {
   "codemirror_mode": {
    "name": "ipython",
    "version": 3
   },
   "file_extension": ".py",
   "mimetype": "text/x-python",
   "name": "python",
   "nbconvert_exporter": "python",
   "pygments_lexer": "ipython3",
   "version": "3.11.3"
  }
 },
 "nbformat": 4,
 "nbformat_minor": 5
}
